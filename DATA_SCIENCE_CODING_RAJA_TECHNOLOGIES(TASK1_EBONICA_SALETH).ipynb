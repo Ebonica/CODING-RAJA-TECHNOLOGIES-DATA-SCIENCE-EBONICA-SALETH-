{
  "nbformat": 4,
  "nbformat_minor": 0,
  "metadata": {
    "colab": {
      "provenance": [],
      "authorship_tag": "ABX9TyP7G1wdvXkcoa+pfiRiKG12",
      "include_colab_link": true
    },
    "kernelspec": {
      "name": "python3",
      "display_name": "Python 3"
    },
    "language_info": {
      "name": "python"
    }
  },
  "cells": [
    {
      "cell_type": "markdown",
      "metadata": {
        "id": "view-in-github",
        "colab_type": "text"
      },
      "source": [
        "<a href=\"https://colab.research.google.com/github/Ebonica/CODING-RAJA-TECHNOLOGIES-DATA-SCIENCE-EBONICA-SALETH-/blob/main/DATA_SCIENCE_CODING_RAJA_TECHNOLOGIES(TASK1_EBONICA_SALETH).ipynb\" target=\"_parent\"><img src=\"https://colab.research.google.com/assets/colab-badge.svg\" alt=\"Open In Colab\"/></a>"
      ]
    },
    {
      "cell_type": "code",
      "source": [
        "!pip install flask"
      ],
      "metadata": {
        "colab": {
          "base_uri": "https://localhost:8080/"
        },
        "id": "B-H4CBgC8IW7",
        "outputId": "238e2dfe-1a07-4f78-b22d-d472ae47f303"
      },
      "execution_count": 19,
      "outputs": [
        {
          "output_type": "stream",
          "name": "stdout",
          "text": [
            "Requirement already satisfied: flask in /usr/local/lib/python3.10/dist-packages (2.2.5)\n",
            "Requirement already satisfied: Werkzeug>=2.2.2 in /usr/local/lib/python3.10/dist-packages (from flask) (3.0.0)\n",
            "Requirement already satisfied: Jinja2>=3.0 in /usr/local/lib/python3.10/dist-packages (from flask) (3.1.2)\n",
            "Requirement already satisfied: itsdangerous>=2.0 in /usr/local/lib/python3.10/dist-packages (from flask) (2.1.2)\n",
            "Requirement already satisfied: click>=8.0 in /usr/local/lib/python3.10/dist-packages (from flask) (8.1.7)\n",
            "Requirement already satisfied: MarkupSafe>=2.0 in /usr/local/lib/python3.10/dist-packages (from Jinja2>=3.0->flask) (2.1.3)\n"
          ]
        }
      ]
    },
    {
      "cell_type": "code",
      "source": [
        "pip install scikit-surprise"
      ],
      "metadata": {
        "colab": {
          "base_uri": "https://localhost:8080/"
        },
        "id": "cIVSBirblKs8",
        "outputId": "a39e0cae-a001-4a69-c960-bdd84adf8601"
      },
      "execution_count": 1,
      "outputs": [
        {
          "output_type": "stream",
          "name": "stdout",
          "text": [
            "Collecting scikit-surprise\n",
            "  Downloading scikit-surprise-1.1.3.tar.gz (771 kB)\n",
            "\u001b[2K     \u001b[90m━━━━━━━━━━━━━━━━━━━━━━━━━━━━━━━━━━━━━━━━\u001b[0m \u001b[32m772.0/772.0 kB\u001b[0m \u001b[31m1.3 MB/s\u001b[0m eta \u001b[36m0:00:00\u001b[0m\n",
            "\u001b[?25h  Preparing metadata (setup.py) ... \u001b[?25l\u001b[?25hdone\n",
            "Requirement already satisfied: joblib>=1.0.0 in /usr/local/lib/python3.10/dist-packages (from scikit-surprise) (1.3.2)\n",
            "Requirement already satisfied: numpy>=1.17.3 in /usr/local/lib/python3.10/dist-packages (from scikit-surprise) (1.23.5)\n",
            "Requirement already satisfied: scipy>=1.3.2 in /usr/local/lib/python3.10/dist-packages (from scikit-surprise) (1.11.3)\n",
            "Building wheels for collected packages: scikit-surprise\n",
            "  Building wheel for scikit-surprise (setup.py) ... \u001b[?25l\u001b[?25hdone\n",
            "  Created wheel for scikit-surprise: filename=scikit_surprise-1.1.3-cp310-cp310-linux_x86_64.whl size=3163318 sha256=fcb6da6661eff2dd34273800f76def099da3de16e3e7e2f1b97cdd1043022c52\n",
            "  Stored in directory: /root/.cache/pip/wheels/a5/ca/a8/4e28def53797fdc4363ca4af740db15a9c2f1595ebc51fb445\n",
            "Successfully built scikit-surprise\n",
            "Installing collected packages: scikit-surprise\n",
            "Successfully installed scikit-surprise-1.1.3\n"
          ]
        }
      ]
    },
    {
      "cell_type": "code",
      "source": [
        "import pandas as pd\n",
        "from surprise import Dataset, Reader, SVD\n",
        "from surprise.model_selection import train_test_split\n",
        "from surprise import accuracy"
      ],
      "metadata": {
        "id": "hMzoyCcbp0la"
      },
      "execution_count": 12,
      "outputs": []
    },
    {
      "cell_type": "code",
      "source": [
        "# Step 1: Data Collection\n",
        "# Download the MovieLens 20M dataset from https://www.kaggle.com/datasets/grouplens/movielens-20m-dataset\n",
        "# and place the 'ratings.csv' file in the same directory as this script.\n",
        "\n",
        "# Step 2: Data Preprocessing\n",
        "data = pd.read_csv('rating.csv')  # Load the MovieLens 20M ratings data\n",
        "reader = Reader(rating_scale=(0.5, 5))\n",
        "data = Dataset.load_from_df(data[['userId', 'movieId', 'rating']], reader)\n"
      ],
      "metadata": {
        "id": "iv8V5nMhp0pL"
      },
      "execution_count": 25,
      "outputs": []
    },
    {
      "cell_type": "code",
      "source": [
        "# Step 3: User-Item Matrix (not needed with Surprise)\n",
        "# Surprise library handles the creation of the user-item matrix internally.\n",
        "# Step 4: Collaborative Filtering\n",
        "# Splitting the dataset into a training set and a test set\n",
        "trainset, testset = train_test_split(data, test_size=0.2, random_state=42)\n",
        "# Choosing a collaborative filtering algorithm (e.g., SVD)\n",
        "model = SVD()\n",
        "model.fit(trainset)"
      ],
      "metadata": {
        "colab": {
          "base_uri": "https://localhost:8080/"
        },
        "id": "-jFOuduTp0sO",
        "outputId": "1a656d0b-e1bb-490b-93f4-4cae2167514b"
      },
      "execution_count": 14,
      "outputs": [
        {
          "output_type": "execute_result",
          "data": {
            "text/plain": [
              "<surprise.prediction_algorithms.matrix_factorization.SVD at 0x7f9fa2d2b6a0>"
            ]
          },
          "metadata": {},
          "execution_count": 14
        }
      ]
    },
    {
      "cell_type": "code",
      "source": [
        "# Step 5: Model Evaluation\n",
        "predictions = model.test(testset)\n",
        "rmse = accuracy.rmse(predictions)\n",
        "mae = accuracy.mae(predictions)\n",
        "print(f'RMSE: {rmse}')\n",
        "print(f'MAE: {mae}')"
      ],
      "metadata": {
        "colab": {
          "base_uri": "https://localhost:8080/"
        },
        "id": "JFPLGxMTp0vH",
        "outputId": "fc6dc6f4-3202-4597-bfdb-3378f39346ec"
      },
      "execution_count": 15,
      "outputs": [
        {
          "output_type": "stream",
          "name": "stdout",
          "text": [
            "RMSE: 0.9179\n",
            "MAE:  0.7179\n",
            "RMSE: 0.9178906521200642\n",
            "MAE: 0.7178838719382713\n"
          ]
        }
      ]
    },
    {
      "cell_type": "code",
      "source": [
        "# Step 6: Top-N Recommendations\n",
        "user_id = int(input(\"Enter your user ID: \"))  # User enters their ID\n",
        "\n",
        "\n",
        "# Gets a list of movie IDs the user has not rated\n",
        "movies_rated_by_user = data.raw_ratings\n",
        "movies_rated_by_user = [(user, movie, rating) for (user, movie, rating, _) in movies_rated_by_user if user == user_id]\n",
        "movies_not_rated_by_user = [movie for (_, movie, _) in movies_rated_by_user]\n",
        "\n",
        "# Predicts the ratings for movies the user has not rated\n",
        "movie_ratings = [(user_id, movie_id, 0) for movie_id in movies_not_rated_by_user]\n",
        "predicted_ratings = model.test(movie_ratings)\n",
        "\n",
        "# Sorts the predicted ratings and gets the top-N recommendations\n",
        "top_n = 10  # Number of recommendations to generate\n",
        "predicted_ratings.sort(key=lambda x: x.est, reverse=True)\n",
        "top_movies = [item.iid for item in predicted_ratings[:top_n]]\n",
        "\n",
        "# Retrieving movie titles from dataset based on the movie IDs in top_movies\n",
        "movie_data = pd.read_csv('movie.csv')  # Loading the movie titles data\n",
        "\n",
        "# Filtering the movie_data DataFrame to get movie titles for top_movies\n",
        "recommended_movies = movie_data[movie_data['movieId'].isin(top_movies)]\n",
        "\n",
        "print(\"\\nTop Recommendations for User\", user_id)\n",
        "print(recommended_movies[['movieId', 'title']])\n"
      ],
      "metadata": {
        "colab": {
          "base_uri": "https://localhost:8080/"
        },
        "id": "P_A54nu8qWZt",
        "outputId": "f06241a7-e31b-403f-9ab9-c7b385b9b5a8"
      },
      "execution_count": 16,
      "outputs": [
        {
          "output_type": "stream",
          "name": "stdout",
          "text": [
            "Enter your user ID: 7\n",
            "\n",
            "Top Recommendations for User 7\n",
            "      movieId                                              title\n",
            "583       589                  Terminator 2: Judgment Day (1991)\n",
            "737       750  Dr. Strangelove or: How I Learned to Stop Worr...\n",
            "1055     1077                                     Sleeper (1973)\n",
            "1171     1196  Star Wars: Episode V - The Empire Strikes Back...\n",
            "1184     1210  Star Wars: Episode VI - Return of the Jedi (1983)\n",
            "1564     1617                           L.A. Confidential (1997)\n",
            "1944     2028                         Saving Private Ryan (1998)\n",
            "2676     2762                            Sixth Sense, The (1999)\n",
            "3487     3578                                   Gladiator (2000)\n",
            "3580     3671                             Blazing Saddles (1974)\n"
          ]
        }
      ]
    },
    {
      "cell_type": "code",
      "source": [
        "!flask run"
      ],
      "metadata": {
        "id": "8yEj_KEvBsCv",
        "outputId": "94470564-a15e-42eb-fb35-154dd852f792",
        "colab": {
          "base_uri": "https://localhost:8080/"
        }
      },
      "execution_count": null,
      "outputs": [
        {
          "output_type": "stream",
          "name": "stdout",
          "text": [
            "Computing the cosine similarity matrix...\n",
            "Done computing similarity matrix.\n",
            " * Debug mode: off\n",
            "\u001b[31m\u001b[1mWARNING: This is a development server. Do not use it in a production deployment. Use a production WSGI server instead.\u001b[0m\n",
            " * Running on http://127.0.0.1:5000\n",
            "\u001b[33mPress CTRL+C to quit\u001b[0m\n"
          ]
        }
      ]
    }
  ]
}